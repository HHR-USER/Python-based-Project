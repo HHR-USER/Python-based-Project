{
 "cells": [
  {
   "cell_type": "markdown",
   "id": "b19cd9bf",
   "metadata": {},
   "source": [
    "<font color='blue'># **Prepared By**</font>\n",
    "* Name:<font color='blue'>Yetsedaw Worku</font>\n",
    "* ID:<font color='blue'>PGP/710/15</font> "
   ]
  },
  {
   "cell_type": "markdown",
   "id": "3f2ce9bb",
   "metadata": {},
   "source": [
    "<font color=\"blue\">* Activity Selection Problem using Greedy iterative and recurive:</font>\n",
    "* You are given n activities with their start and finish times. Select the maximum number of activities that can be performed by a single person, assuming that a person can only work on a single activity at a time. \n",
    "\n",
    "* Examples:  \n",
    "\n",
    "*Input: start[]  =  {10, 12, 20}, finish[] =  {20, 25, 30}\n",
    "* Output: 0 2\n",
    "* <font color=\"blue\"> Explanation:</font> \n",
    "* A person can perform at most two activities. The \n",
    "* maximum set of activities that can be executed \n",
    "is {0, 2} [ These are indexes in start[] and finish[] ]\n",
    "* <font color=\"blue\">*====OR=====</font> \n",
    "* You can use as Example2\n",
    "* Start= [1, 3, 0, 5, 8, 5]\n",
    "* finish=[2, 4, 6, 7, 9, 9];\n",
    "* Out put\n",
    "* is {0, 1, 3, 4} \n",
    "* The task is to select/print maximum number of non-conflicting activities that can be performed by a single person, given that the person can handle only one activity at a time."
   ]
  },
  {
   "cell_type": "markdown",
   "id": "3f93b0a9",
   "metadata": {},
   "source": [
    "## 1. Create Class Activity\n"
   ]
  },
  {
   "cell_type": "code",
   "execution_count": 1,
   "id": "b795a28f",
   "metadata": {},
   "outputs": [],
   "source": [
    "class Activity:\n",
    "    def __init__(self, name, start, finish):\n",
    "        self.name = name\n",
    "        self.x=start\n",
    "        self.y=finish"
   ]
  },
  {
   "cell_type": "markdown",
   "id": "5d4c1358",
   "metadata": {},
   "source": [
    "## 2.Greedy By Iterative"
   ]
  },
  {
   "cell_type": "code",
   "execution_count": 2,
   "id": "9abe69d1",
   "metadata": {},
   "outputs": [],
   "source": [
    "def iterative_activity_selector(ACT):\n",
    "    ACT.sort(key=lambda x:x.y)\n",
    "    list_data=[ACT[0]]  \n",
    "    k=0\n",
    "    i=k+1\n",
    "    while i<len(ACT):\n",
    "        if ACT[i].x>=ACT[k].y:\n",
    "            list_data.append(ACT[i])\n",
    "            k=i\n",
    "        else:\n",
    "            i+=1\n",
    "    return list_data"
   ]
  },
  {
   "cell_type": "code",
   "execution_count": 3,
   "id": "24c6e1f8",
   "metadata": {},
   "outputs": [],
   "source": [
    "from colorama import Fore, Back, Style"
   ]
  },
  {
   "cell_type": "code",
   "execution_count": 4,
   "id": "4d258bf3",
   "metadata": {},
   "outputs": [
    {
     "name": "stdout",
     "output_type": "stream",
     "text": [
      "Enter number of activity?\n",
      "=>0\n",
      "\u001b[31m No zero or -ve activity,Please enter a positive number.\n",
      "Enter number of activity?\n",
      "=>6\n",
      "──────────────────────────────────────────────────────────── \u001b[39m\n",
      "1 Entre Start time/value And time/finish Value\n",
      "\n",
      "Enter Start time ?1\n",
      "Enter finish time ?8\n",
      "─────────────────────────\n",
      "2 Entre Start time/value And time/finish Value\n",
      "\n",
      "Enter Start time ?3\n",
      "Enter finish time ?2\n",
      "─────────────────────────\n",
      "3 Entre Start time/value And time/finish Value\n",
      "\n",
      "Enter Start time ?0\n",
      "Enter finish time ?4\n",
      "─────────────────────────\n",
      "4 Entre Start time/value And time/finish Value\n",
      "\n",
      "Enter Start time ?5\n",
      "Enter finish time ?6\n",
      "─────────────────────────\n",
      "5 Entre Start time/value And time/finish Value\n",
      "\n",
      "Enter Start time ?5\n",
      "Enter finish time ?9\n",
      "─────────────────────────\n",
      "6 Entre Start time/value And time/finish Value\n",
      "\n",
      "Enter Start time ?8\n",
      "Enter finish time ?9\n",
      "─────────────────────────\n",
      "Sorted activities as per finish time (ascending order)\n",
      "\u001b[32m ===Output====\n",
      "Activity\tStart\t  Finish\n",
      "ACT-0 \t\t 1 \t\t 2\n",
      "ACT-1 \t\t 3 \t\t 4\n",
      "ACT-2 \t\t 0 \t\t 6\n",
      "ACT-3 \t\t 5 \t\t 8\n",
      "ACT-4 \t\t 5 \t\t 9\n",
      "ACT-5 \t\t 8 \t\t 9\n",
      "\u001b[34m ===Output====\n",
      "───────────────────────────────────\n",
      "Activity\tStart \t Finish\n",
      "ACT-1 \t\t 3 \t\t 2\n",
      "ACT-3 \t\t 5 \t\t 6\n",
      "ACT-5 \t\t 8 \t\t 9\n",
      "──────────────────────────────────────────────────────────── \u001b[39m\n",
      "Out Of  6  Activities\n",
      " 3 Non-conflict activity are selected\n"
     ]
    }
   ],
   "source": [
    "while True:\n",
    "    n=int(input(\"Enter number of activity?\\n=>\"))\n",
    "    try:\n",
    "        n=int(n)\n",
    "    except:\n",
    "        print(Fore.RED,'Please use numeric digits.')\n",
    "        continue\n",
    "    if n <=0:\n",
    "        print(Fore.RED,'No zero or -ve activity,Please enter a positive number.')\n",
    "        continue\n",
    "    break\n",
    "print('─' * 60,Fore.RESET)\n",
    "activities=[]\n",
    "x=[0]*n \n",
    "y=[0]*n \n",
    "for i in range(0,n):\n",
    "    print(i+1,\"Entre Start time/value And time/finish Value\\n\")\n",
    "    a=int(input(\"Enter Start time ?\"))\n",
    "    b=int(input(\"Enter finish time ?\"))\n",
    "    print('─' * 25)\n",
    "    x[i],y[i]=a,b\n",
    "    actname=\"ACT-\"+str(i)\n",
    "    activities.append(Activity(actname,a,b))  \n",
    "#Sort the activities as per finishing time in ascending order \n",
    "for m in range(0,n):\n",
    "    for mm in range(0,n-1):\n",
    "        if(y[mm] > y[mm+1]):\n",
    "            temp = y[mm]\n",
    "            y[mm] = y[mm+1]\n",
    "            y[mm+1] = temp\n",
    "print(\"Sorted activities as per finish time (ascending order)\")\n",
    "print(Fore.GREEN,\"===Output====\")\n",
    "print(\"Activity\\tStart\\t  Finish\")\n",
    "val=0\n",
    "for vv in range(0,n):\n",
    "    print(\"ACT-\"+str(val),\"\\t\\t\",x[vv],\"\\t\\t\",y[vv])\n",
    "    val=val+1\n",
    "print(Fore.BLUE,\"===Output====\")\n",
    "print('─' * 35)\n",
    "print(\"Activity\\tStart \\t Finish\")\n",
    "v=0\n",
    "for activity in iterative_activity_selector(activities):\n",
    "        print(activity.name,\"\\t\\t\",activity.x,\"\\t\\t\",activity.y)\n",
    "        v=v+1\n",
    "print('─' * 60,Fore.RESET)\n",
    "print(\"Out Of \",n,\" Activities\\n\",v,\"Non-conflict activity are selected\")\n",
    "#Start=[1,3,0,5,5,8]\n",
    "#finish=[8,2,4,6,9,9];"
   ]
  },
  {
   "cell_type": "code",
   "execution_count": null,
   "id": "f01c58ad",
   "metadata": {},
   "outputs": [],
   "source": []
  }
 ],
 "metadata": {
  "kernelspec": {
   "display_name": "Python 3 (ipykernel)",
   "language": "python",
   "name": "python3"
  },
  "language_info": {
   "codemirror_mode": {
    "name": "ipython",
    "version": 3
   },
   "file_extension": ".py",
   "mimetype": "text/x-python",
   "name": "python",
   "nbconvert_exporter": "python",
   "pygments_lexer": "ipython3",
   "version": "3.9.13"
  }
 },
 "nbformat": 4,
 "nbformat_minor": 5
}
